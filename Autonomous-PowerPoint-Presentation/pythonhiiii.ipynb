import urllib
from urllib.request import urlopen
from bs4 import BeautifulSoup
import requests
import re
from transformers import BartTokenizer, BartForConditionalGeneration
from transformers import T5Tokenizer, T5ForConditionalGeneration, T5Config
import torch
import os, sys
import subprocess
from pptx import Presentation
from math import floor
import time
import numpy as np
import pandas as pd
from PIL import Image
import matplotlib.pyplot as plt
import cv2
from pptx.util import Inches
import pickle
