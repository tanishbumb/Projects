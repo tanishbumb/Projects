{
  "nbformat": 4,
  "nbformat_minor": 0,
  "metadata": {
    "colab": {
      "name": "aapl_current.ipynb",
      "provenance": []
    },
    "kernelspec": {
      "name": "python3",
      "display_name": "Python 3"
    }
  },
  "cells": [
    {
      "cell_type": "code",
      "metadata": {
        "id": "8W7ceAegtllJ"
      },
      "source": [
        "import pandas as pd\r\n",
        "import numpy as np\r\n",
        "import matplotlib.pyplot as plt\r\n",
        "from matplotlib.pyplot import figure\r\n",
        "import seaborn as sns"
      ],
      "execution_count": 229,
      "outputs": []
    },
    {
      "cell_type": "code",
      "metadata": {
        "colab": {
          "base_uri": "https://localhost:8080/",
          "height": 407
        },
        "id": "5E-6T7WXtu3o",
        "outputId": "8922e497-a159-446b-9738-9551a8003818"
      },
      "source": [
        "df=pd.read_csv('/content/AAPL (1).csv')\r\n",
        "df"
      ],
      "execution_count": 230,
      "outputs": [
        {
          "output_type": "execute_result",
          "data": {
            "text/html": [
              "<div>\n",
              "<style scoped>\n",
              "    .dataframe tbody tr th:only-of-type {\n",
              "        vertical-align: middle;\n",
              "    }\n",
              "\n",
              "    .dataframe tbody tr th {\n",
              "        vertical-align: top;\n",
              "    }\n",
              "\n",
              "    .dataframe thead th {\n",
              "        text-align: right;\n",
              "    }\n",
              "</style>\n",
              "<table border=\"1\" class=\"dataframe\">\n",
              "  <thead>\n",
              "    <tr style=\"text-align: right;\">\n",
              "      <th></th>\n",
              "      <th>Date</th>\n",
              "      <th>Open</th>\n",
              "      <th>High</th>\n",
              "      <th>Low</th>\n",
              "      <th>Close</th>\n",
              "      <th>Adj Close</th>\n",
              "      <th>Volume</th>\n",
              "    </tr>\n",
              "  </thead>\n",
              "  <tbody>\n",
              "    <tr>\n",
              "      <th>0</th>\n",
              "      <td>2020-01-13</td>\n",
              "      <td>77.910004</td>\n",
              "      <td>79.267502</td>\n",
              "      <td>77.787498</td>\n",
              "      <td>79.239998</td>\n",
              "      <td>78.561531</td>\n",
              "      <td>121532000</td>\n",
              "    </tr>\n",
              "    <tr>\n",
              "      <th>1</th>\n",
              "      <td>2020-01-14</td>\n",
              "      <td>79.175003</td>\n",
              "      <td>79.392502</td>\n",
              "      <td>78.042503</td>\n",
              "      <td>78.169998</td>\n",
              "      <td>77.500702</td>\n",
              "      <td>161954400</td>\n",
              "    </tr>\n",
              "    <tr>\n",
              "      <th>2</th>\n",
              "      <td>2020-01-15</td>\n",
              "      <td>77.962502</td>\n",
              "      <td>78.875000</td>\n",
              "      <td>77.387497</td>\n",
              "      <td>77.834999</td>\n",
              "      <td>77.168564</td>\n",
              "      <td>121923600</td>\n",
              "    </tr>\n",
              "    <tr>\n",
              "      <th>3</th>\n",
              "      <td>2020-01-16</td>\n",
              "      <td>78.397499</td>\n",
              "      <td>78.925003</td>\n",
              "      <td>78.022499</td>\n",
              "      <td>78.809998</td>\n",
              "      <td>78.135223</td>\n",
              "      <td>108829200</td>\n",
              "    </tr>\n",
              "    <tr>\n",
              "      <th>4</th>\n",
              "      <td>2020-01-17</td>\n",
              "      <td>79.067497</td>\n",
              "      <td>79.684998</td>\n",
              "      <td>78.750000</td>\n",
              "      <td>79.682503</td>\n",
              "      <td>79.000244</td>\n",
              "      <td>137816400</td>\n",
              "    </tr>\n",
              "    <tr>\n",
              "      <th>...</th>\n",
              "      <td>...</td>\n",
              "      <td>...</td>\n",
              "      <td>...</td>\n",
              "      <td>...</td>\n",
              "      <td>...</td>\n",
              "      <td>...</td>\n",
              "      <td>...</td>\n",
              "    </tr>\n",
              "    <tr>\n",
              "      <th>248</th>\n",
              "      <td>2021-01-06</td>\n",
              "      <td>127.720001</td>\n",
              "      <td>131.050003</td>\n",
              "      <td>126.379997</td>\n",
              "      <td>126.599998</td>\n",
              "      <td>126.599998</td>\n",
              "      <td>155088000</td>\n",
              "    </tr>\n",
              "    <tr>\n",
              "      <th>249</th>\n",
              "      <td>2021-01-07</td>\n",
              "      <td>128.360001</td>\n",
              "      <td>131.630005</td>\n",
              "      <td>127.860001</td>\n",
              "      <td>130.919998</td>\n",
              "      <td>130.919998</td>\n",
              "      <td>109578200</td>\n",
              "    </tr>\n",
              "    <tr>\n",
              "      <th>250</th>\n",
              "      <td>2021-01-08</td>\n",
              "      <td>132.429993</td>\n",
              "      <td>132.630005</td>\n",
              "      <td>130.229996</td>\n",
              "      <td>132.050003</td>\n",
              "      <td>132.050003</td>\n",
              "      <td>105158200</td>\n",
              "    </tr>\n",
              "    <tr>\n",
              "      <th>251</th>\n",
              "      <td>2021-01-11</td>\n",
              "      <td>129.190002</td>\n",
              "      <td>130.169998</td>\n",
              "      <td>128.500000</td>\n",
              "      <td>128.979996</td>\n",
              "      <td>128.979996</td>\n",
              "      <td>100620900</td>\n",
              "    </tr>\n",
              "    <tr>\n",
              "      <th>252</th>\n",
              "      <td>2021-01-12</td>\n",
              "      <td>128.500000</td>\n",
              "      <td>129.690002</td>\n",
              "      <td>126.860001</td>\n",
              "      <td>128.800003</td>\n",
              "      <td>128.800003</td>\n",
              "      <td>91722800</td>\n",
              "    </tr>\n",
              "  </tbody>\n",
              "</table>\n",
              "<p>253 rows × 7 columns</p>\n",
              "</div>"
            ],
            "text/plain": [
              "           Date        Open        High  ...       Close   Adj Close     Volume\n",
              "0    2020-01-13   77.910004   79.267502  ...   79.239998   78.561531  121532000\n",
              "1    2020-01-14   79.175003   79.392502  ...   78.169998   77.500702  161954400\n",
              "2    2020-01-15   77.962502   78.875000  ...   77.834999   77.168564  121923600\n",
              "3    2020-01-16   78.397499   78.925003  ...   78.809998   78.135223  108829200\n",
              "4    2020-01-17   79.067497   79.684998  ...   79.682503   79.000244  137816400\n",
              "..          ...         ...         ...  ...         ...         ...        ...\n",
              "248  2021-01-06  127.720001  131.050003  ...  126.599998  126.599998  155088000\n",
              "249  2021-01-07  128.360001  131.630005  ...  130.919998  130.919998  109578200\n",
              "250  2021-01-08  132.429993  132.630005  ...  132.050003  132.050003  105158200\n",
              "251  2021-01-11  129.190002  130.169998  ...  128.979996  128.979996  100620900\n",
              "252  2021-01-12  128.500000  129.690002  ...  128.800003  128.800003   91722800\n",
              "\n",
              "[253 rows x 7 columns]"
            ]
          },
          "metadata": {
            "tags": []
          },
          "execution_count": 230
        }
      ]
    },
    {
      "cell_type": "code",
      "metadata": {
        "colab": {
          "base_uri": "https://localhost:8080/"
        },
        "id": "z_d415BsuF5g",
        "outputId": "9f640824-921f-41a6-a64e-709640b8a878"
      },
      "source": [
        "df.columns"
      ],
      "execution_count": 231,
      "outputs": [
        {
          "output_type": "execute_result",
          "data": {
            "text/plain": [
              "Index(['Date', 'Open', 'High', 'Low', 'Close', 'Adj Close', 'Volume'], dtype='object')"
            ]
          },
          "metadata": {
            "tags": []
          },
          "execution_count": 231
        }
      ]
    },
    {
      "cell_type": "code",
      "metadata": {
        "colab": {
          "base_uri": "https://localhost:8080/"
        },
        "id": "fOUrpW-zuCdx",
        "outputId": "7d18d32e-f217-4788-b2c1-2afe2d2224f3"
      },
      "source": [
        "df.dtypes"
      ],
      "execution_count": 232,
      "outputs": [
        {
          "output_type": "execute_result",
          "data": {
            "text/plain": [
              "Date          object\n",
              "Open         float64\n",
              "High         float64\n",
              "Low          float64\n",
              "Close        float64\n",
              "Adj Close    float64\n",
              "Volume         int64\n",
              "dtype: object"
            ]
          },
          "metadata": {
            "tags": []
          },
          "execution_count": 232
        }
      ]
    },
    {
      "cell_type": "code",
      "metadata": {
        "colab": {
          "base_uri": "https://localhost:8080/",
          "height": 288
        },
        "id": "-ZprUwc-t5M4",
        "outputId": "2eef1dae-c6ba-4897-be7e-aac663a7a77d"
      },
      "source": [
        "df.describe()"
      ],
      "execution_count": 233,
      "outputs": [
        {
          "output_type": "execute_result",
          "data": {
            "text/html": [
              "<div>\n",
              "<style scoped>\n",
              "    .dataframe tbody tr th:only-of-type {\n",
              "        vertical-align: middle;\n",
              "    }\n",
              "\n",
              "    .dataframe tbody tr th {\n",
              "        vertical-align: top;\n",
              "    }\n",
              "\n",
              "    .dataframe thead th {\n",
              "        text-align: right;\n",
              "    }\n",
              "</style>\n",
              "<table border=\"1\" class=\"dataframe\">\n",
              "  <thead>\n",
              "    <tr style=\"text-align: right;\">\n",
              "      <th></th>\n",
              "      <th>Open</th>\n",
              "      <th>High</th>\n",
              "      <th>Low</th>\n",
              "      <th>Close</th>\n",
              "      <th>Adj Close</th>\n",
              "      <th>Volume</th>\n",
              "    </tr>\n",
              "  </thead>\n",
              "  <tbody>\n",
              "    <tr>\n",
              "      <th>count</th>\n",
              "      <td>253.000000</td>\n",
              "      <td>253.000000</td>\n",
              "      <td>253.000000</td>\n",
              "      <td>253.000000</td>\n",
              "      <td>253.000000</td>\n",
              "      <td>2.530000e+02</td>\n",
              "    </tr>\n",
              "    <tr>\n",
              "      <th>mean</th>\n",
              "      <td>96.781917</td>\n",
              "      <td>98.195860</td>\n",
              "      <td>95.381719</td>\n",
              "      <td>96.841106</td>\n",
              "      <td>96.555759</td>\n",
              "      <td>1.487647e+08</td>\n",
              "    </tr>\n",
              "    <tr>\n",
              "      <th>std</th>\n",
              "      <td>22.451754</td>\n",
              "      <td>22.533056</td>\n",
              "      <td>22.030659</td>\n",
              "      <td>22.259124</td>\n",
              "      <td>22.403894</td>\n",
              "      <td>7.610504e+07</td>\n",
              "    </tr>\n",
              "    <tr>\n",
              "      <th>min</th>\n",
              "      <td>57.020000</td>\n",
              "      <td>57.125000</td>\n",
              "      <td>53.152500</td>\n",
              "      <td>56.092499</td>\n",
              "      <td>55.744217</td>\n",
              "      <td>2.256430e+07</td>\n",
              "    </tr>\n",
              "    <tr>\n",
              "      <th>25%</th>\n",
              "      <td>78.292503</td>\n",
              "      <td>79.267502</td>\n",
              "      <td>77.625000</td>\n",
              "      <td>78.262497</td>\n",
              "      <td>77.776558</td>\n",
              "      <td>1.005660e+08</td>\n",
              "    </tr>\n",
              "    <tr>\n",
              "      <th>50%</th>\n",
              "      <td>94.187500</td>\n",
              "      <td>95.375000</td>\n",
              "      <td>93.712502</td>\n",
              "      <td>95.040001</td>\n",
              "      <td>94.705559</td>\n",
              "      <td>1.335680e+08</td>\n",
              "    </tr>\n",
              "    <tr>\n",
              "      <th>75%</th>\n",
              "      <td>116.970001</td>\n",
              "      <td>118.709999</td>\n",
              "      <td>115.260002</td>\n",
              "      <td>116.589996</td>\n",
              "      <td>116.399178</td>\n",
              "      <td>1.822744e+08</td>\n",
              "    </tr>\n",
              "    <tr>\n",
              "      <th>max</th>\n",
              "      <td>138.050003</td>\n",
              "      <td>138.789993</td>\n",
              "      <td>134.339996</td>\n",
              "      <td>136.690002</td>\n",
              "      <td>136.690002</td>\n",
              "      <td>4.268848e+08</td>\n",
              "    </tr>\n",
              "  </tbody>\n",
              "</table>\n",
              "</div>"
            ],
            "text/plain": [
              "             Open        High         Low       Close   Adj Close        Volume\n",
              "count  253.000000  253.000000  253.000000  253.000000  253.000000  2.530000e+02\n",
              "mean    96.781917   98.195860   95.381719   96.841106   96.555759  1.487647e+08\n",
              "std     22.451754   22.533056   22.030659   22.259124   22.403894  7.610504e+07\n",
              "min     57.020000   57.125000   53.152500   56.092499   55.744217  2.256430e+07\n",
              "25%     78.292503   79.267502   77.625000   78.262497   77.776558  1.005660e+08\n",
              "50%     94.187500   95.375000   93.712502   95.040001   94.705559  1.335680e+08\n",
              "75%    116.970001  118.709999  115.260002  116.589996  116.399178  1.822744e+08\n",
              "max    138.050003  138.789993  134.339996  136.690002  136.690002  4.268848e+08"
            ]
          },
          "metadata": {
            "tags": []
          },
          "execution_count": 233
        }
      ]
    },
    {
      "cell_type": "code",
      "metadata": {
        "colab": {
          "base_uri": "https://localhost:8080/"
        },
        "id": "4FY6zQvjulh4",
        "outputId": "7250db53-4ea3-4921-b390-fe5f18ffd1e2"
      },
      "source": [
        "df.astype({'Date': 'datetime64[ns]'}).dtypes "
      ],
      "execution_count": 234,
      "outputs": [
        {
          "output_type": "execute_result",
          "data": {
            "text/plain": [
              "Date         datetime64[ns]\n",
              "Open                float64\n",
              "High                float64\n",
              "Low                 float64\n",
              "Close               float64\n",
              "Adj Close           float64\n",
              "Volume                int64\n",
              "dtype: object"
            ]
          },
          "metadata": {
            "tags": []
          },
          "execution_count": 234
        }
      ]
    },
    {
      "cell_type": "code",
      "metadata": {
        "colab": {
          "base_uri": "https://localhost:8080/",
          "height": 599
        },
        "id": "kJS2wzdvu1Lk",
        "outputId": "4c8491d9-d865-48a3-a494-6a913bf9103e"
      },
      "source": [
        "df['Day_Perc_Change']=(df['Close'].pct_change()*100)\r\n",
        "df"
      ],
      "execution_count": 235,
      "outputs": [
        {
          "output_type": "execute_result",
          "data": {
            "text/html": [
              "<div>\n",
              "<style scoped>\n",
              "    .dataframe tbody tr th:only-of-type {\n",
              "        vertical-align: middle;\n",
              "    }\n",
              "\n",
              "    .dataframe tbody tr th {\n",
              "        vertical-align: top;\n",
              "    }\n",
              "\n",
              "    .dataframe thead th {\n",
              "        text-align: right;\n",
              "    }\n",
              "</style>\n",
              "<table border=\"1\" class=\"dataframe\">\n",
              "  <thead>\n",
              "    <tr style=\"text-align: right;\">\n",
              "      <th></th>\n",
              "      <th>Date</th>\n",
              "      <th>Open</th>\n",
              "      <th>High</th>\n",
              "      <th>Low</th>\n",
              "      <th>Close</th>\n",
              "      <th>Adj Close</th>\n",
              "      <th>Volume</th>\n",
              "      <th>Day_Perc_Change</th>\n",
              "    </tr>\n",
              "  </thead>\n",
              "  <tbody>\n",
              "    <tr>\n",
              "      <th>0</th>\n",
              "      <td>2020-01-13</td>\n",
              "      <td>77.910004</td>\n",
              "      <td>79.267502</td>\n",
              "      <td>77.787498</td>\n",
              "      <td>79.239998</td>\n",
              "      <td>78.561531</td>\n",
              "      <td>121532000</td>\n",
              "      <td>NaN</td>\n",
              "    </tr>\n",
              "    <tr>\n",
              "      <th>1</th>\n",
              "      <td>2020-01-14</td>\n",
              "      <td>79.175003</td>\n",
              "      <td>79.392502</td>\n",
              "      <td>78.042503</td>\n",
              "      <td>78.169998</td>\n",
              "      <td>77.500702</td>\n",
              "      <td>161954400</td>\n",
              "      <td>-1.350328</td>\n",
              "    </tr>\n",
              "    <tr>\n",
              "      <th>2</th>\n",
              "      <td>2020-01-15</td>\n",
              "      <td>77.962502</td>\n",
              "      <td>78.875000</td>\n",
              "      <td>77.387497</td>\n",
              "      <td>77.834999</td>\n",
              "      <td>77.168564</td>\n",
              "      <td>121923600</td>\n",
              "      <td>-0.428552</td>\n",
              "    </tr>\n",
              "    <tr>\n",
              "      <th>3</th>\n",
              "      <td>2020-01-16</td>\n",
              "      <td>78.397499</td>\n",
              "      <td>78.925003</td>\n",
              "      <td>78.022499</td>\n",
              "      <td>78.809998</td>\n",
              "      <td>78.135223</td>\n",
              "      <td>108829200</td>\n",
              "      <td>1.252649</td>\n",
              "    </tr>\n",
              "    <tr>\n",
              "      <th>4</th>\n",
              "      <td>2020-01-17</td>\n",
              "      <td>79.067497</td>\n",
              "      <td>79.684998</td>\n",
              "      <td>78.750000</td>\n",
              "      <td>79.682503</td>\n",
              "      <td>79.000244</td>\n",
              "      <td>137816400</td>\n",
              "      <td>1.107099</td>\n",
              "    </tr>\n",
              "    <tr>\n",
              "      <th>...</th>\n",
              "      <td>...</td>\n",
              "      <td>...</td>\n",
              "      <td>...</td>\n",
              "      <td>...</td>\n",
              "      <td>...</td>\n",
              "      <td>...</td>\n",
              "      <td>...</td>\n",
              "      <td>...</td>\n",
              "    </tr>\n",
              "    <tr>\n",
              "      <th>248</th>\n",
              "      <td>2021-01-06</td>\n",
              "      <td>127.720001</td>\n",
              "      <td>131.050003</td>\n",
              "      <td>126.379997</td>\n",
              "      <td>126.599998</td>\n",
              "      <td>126.599998</td>\n",
              "      <td>155088000</td>\n",
              "      <td>-3.366153</td>\n",
              "    </tr>\n",
              "    <tr>\n",
              "      <th>249</th>\n",
              "      <td>2021-01-07</td>\n",
              "      <td>128.360001</td>\n",
              "      <td>131.630005</td>\n",
              "      <td>127.860001</td>\n",
              "      <td>130.919998</td>\n",
              "      <td>130.919998</td>\n",
              "      <td>109578200</td>\n",
              "      <td>3.412322</td>\n",
              "    </tr>\n",
              "    <tr>\n",
              "      <th>250</th>\n",
              "      <td>2021-01-08</td>\n",
              "      <td>132.429993</td>\n",
              "      <td>132.630005</td>\n",
              "      <td>130.229996</td>\n",
              "      <td>132.050003</td>\n",
              "      <td>132.050003</td>\n",
              "      <td>105158200</td>\n",
              "      <td>0.863126</td>\n",
              "    </tr>\n",
              "    <tr>\n",
              "      <th>251</th>\n",
              "      <td>2021-01-11</td>\n",
              "      <td>129.190002</td>\n",
              "      <td>130.169998</td>\n",
              "      <td>128.500000</td>\n",
              "      <td>128.979996</td>\n",
              "      <td>128.979996</td>\n",
              "      <td>100620900</td>\n",
              "      <td>-2.324882</td>\n",
              "    </tr>\n",
              "    <tr>\n",
              "      <th>252</th>\n",
              "      <td>2021-01-12</td>\n",
              "      <td>128.500000</td>\n",
              "      <td>129.690002</td>\n",
              "      <td>126.860001</td>\n",
              "      <td>128.800003</td>\n",
              "      <td>128.800003</td>\n",
              "      <td>91722800</td>\n",
              "      <td>-0.139551</td>\n",
              "    </tr>\n",
              "  </tbody>\n",
              "</table>\n",
              "<p>253 rows × 8 columns</p>\n",
              "</div>"
            ],
            "text/plain": [
              "           Date        Open        High  ...   Adj Close     Volume  Day_Perc_Change\n",
              "0    2020-01-13   77.910004   79.267502  ...   78.561531  121532000              NaN\n",
              "1    2020-01-14   79.175003   79.392502  ...   77.500702  161954400        -1.350328\n",
              "2    2020-01-15   77.962502   78.875000  ...   77.168564  121923600        -0.428552\n",
              "3    2020-01-16   78.397499   78.925003  ...   78.135223  108829200         1.252649\n",
              "4    2020-01-17   79.067497   79.684998  ...   79.000244  137816400         1.107099\n",
              "..          ...         ...         ...  ...         ...        ...              ...\n",
              "248  2021-01-06  127.720001  131.050003  ...  126.599998  155088000        -3.366153\n",
              "249  2021-01-07  128.360001  131.630005  ...  130.919998  109578200         3.412322\n",
              "250  2021-01-08  132.429993  132.630005  ...  132.050003  105158200         0.863126\n",
              "251  2021-01-11  129.190002  130.169998  ...  128.979996  100620900        -2.324882\n",
              "252  2021-01-12  128.500000  129.690002  ...  128.800003   91722800        -0.139551\n",
              "\n",
              "[253 rows x 8 columns]"
            ]
          },
          "metadata": {
            "tags": []
          },
          "execution_count": 235
        }
      ]
    },
    {
      "cell_type": "code",
      "metadata": {
        "colab": {
          "base_uri": "https://localhost:8080/",
          "height": 599
        },
        "id": "G_sLkgn3vMSV",
        "outputId": "79c2c354-b3a3-470c-e47f-152a2dabfa4d"
      },
      "source": [
        "df['HL_PCT']=((df['High']-df['Low'])/df['Adj Close']*100)\r\n",
        "df"
      ],
      "execution_count": 236,
      "outputs": [
        {
          "output_type": "execute_result",
          "data": {
            "text/html": [
              "<div>\n",
              "<style scoped>\n",
              "    .dataframe tbody tr th:only-of-type {\n",
              "        vertical-align: middle;\n",
              "    }\n",
              "\n",
              "    .dataframe tbody tr th {\n",
              "        vertical-align: top;\n",
              "    }\n",
              "\n",
              "    .dataframe thead th {\n",
              "        text-align: right;\n",
              "    }\n",
              "</style>\n",
              "<table border=\"1\" class=\"dataframe\">\n",
              "  <thead>\n",
              "    <tr style=\"text-align: right;\">\n",
              "      <th></th>\n",
              "      <th>Date</th>\n",
              "      <th>Open</th>\n",
              "      <th>High</th>\n",
              "      <th>Low</th>\n",
              "      <th>Close</th>\n",
              "      <th>Adj Close</th>\n",
              "      <th>Volume</th>\n",
              "      <th>Day_Perc_Change</th>\n",
              "      <th>HL_PCT</th>\n",
              "    </tr>\n",
              "  </thead>\n",
              "  <tbody>\n",
              "    <tr>\n",
              "      <th>0</th>\n",
              "      <td>2020-01-13</td>\n",
              "      <td>77.910004</td>\n",
              "      <td>79.267502</td>\n",
              "      <td>77.787498</td>\n",
              "      <td>79.239998</td>\n",
              "      <td>78.561531</td>\n",
              "      <td>121532000</td>\n",
              "      <td>NaN</td>\n",
              "      <td>1.883879</td>\n",
              "    </tr>\n",
              "    <tr>\n",
              "      <th>1</th>\n",
              "      <td>2020-01-14</td>\n",
              "      <td>79.175003</td>\n",
              "      <td>79.392502</td>\n",
              "      <td>78.042503</td>\n",
              "      <td>78.169998</td>\n",
              "      <td>77.500702</td>\n",
              "      <td>161954400</td>\n",
              "      <td>-1.350328</td>\n",
              "      <td>1.741918</td>\n",
              "    </tr>\n",
              "    <tr>\n",
              "      <th>2</th>\n",
              "      <td>2020-01-15</td>\n",
              "      <td>77.962502</td>\n",
              "      <td>78.875000</td>\n",
              "      <td>77.387497</td>\n",
              "      <td>77.834999</td>\n",
              "      <td>77.168564</td>\n",
              "      <td>121923600</td>\n",
              "      <td>-0.428552</td>\n",
              "      <td>1.927602</td>\n",
              "    </tr>\n",
              "    <tr>\n",
              "      <th>3</th>\n",
              "      <td>2020-01-16</td>\n",
              "      <td>78.397499</td>\n",
              "      <td>78.925003</td>\n",
              "      <td>78.022499</td>\n",
              "      <td>78.809998</td>\n",
              "      <td>78.135223</td>\n",
              "      <td>108829200</td>\n",
              "      <td>1.252649</td>\n",
              "      <td>1.155054</td>\n",
              "    </tr>\n",
              "    <tr>\n",
              "      <th>4</th>\n",
              "      <td>2020-01-17</td>\n",
              "      <td>79.067497</td>\n",
              "      <td>79.684998</td>\n",
              "      <td>78.750000</td>\n",
              "      <td>79.682503</td>\n",
              "      <td>79.000244</td>\n",
              "      <td>137816400</td>\n",
              "      <td>1.107099</td>\n",
              "      <td>1.183538</td>\n",
              "    </tr>\n",
              "    <tr>\n",
              "      <th>...</th>\n",
              "      <td>...</td>\n",
              "      <td>...</td>\n",
              "      <td>...</td>\n",
              "      <td>...</td>\n",
              "      <td>...</td>\n",
              "      <td>...</td>\n",
              "      <td>...</td>\n",
              "      <td>...</td>\n",
              "      <td>...</td>\n",
              "    </tr>\n",
              "    <tr>\n",
              "      <th>248</th>\n",
              "      <td>2021-01-06</td>\n",
              "      <td>127.720001</td>\n",
              "      <td>131.050003</td>\n",
              "      <td>126.379997</td>\n",
              "      <td>126.599998</td>\n",
              "      <td>126.599998</td>\n",
              "      <td>155088000</td>\n",
              "      <td>-3.366153</td>\n",
              "      <td>3.688788</td>\n",
              "    </tr>\n",
              "    <tr>\n",
              "      <th>249</th>\n",
              "      <td>2021-01-07</td>\n",
              "      <td>128.360001</td>\n",
              "      <td>131.630005</td>\n",
              "      <td>127.860001</td>\n",
              "      <td>130.919998</td>\n",
              "      <td>130.919998</td>\n",
              "      <td>109578200</td>\n",
              "      <td>3.412322</td>\n",
              "      <td>2.879624</td>\n",
              "    </tr>\n",
              "    <tr>\n",
              "      <th>250</th>\n",
              "      <td>2021-01-08</td>\n",
              "      <td>132.429993</td>\n",
              "      <td>132.630005</td>\n",
              "      <td>130.229996</td>\n",
              "      <td>132.050003</td>\n",
              "      <td>132.050003</td>\n",
              "      <td>105158200</td>\n",
              "      <td>0.863126</td>\n",
              "      <td>1.817500</td>\n",
              "    </tr>\n",
              "    <tr>\n",
              "      <th>251</th>\n",
              "      <td>2021-01-11</td>\n",
              "      <td>129.190002</td>\n",
              "      <td>130.169998</td>\n",
              "      <td>128.500000</td>\n",
              "      <td>128.979996</td>\n",
              "      <td>128.979996</td>\n",
              "      <td>100620900</td>\n",
              "      <td>-2.324882</td>\n",
              "      <td>1.294773</td>\n",
              "    </tr>\n",
              "    <tr>\n",
              "      <th>252</th>\n",
              "      <td>2021-01-12</td>\n",
              "      <td>128.500000</td>\n",
              "      <td>129.690002</td>\n",
              "      <td>126.860001</td>\n",
              "      <td>128.800003</td>\n",
              "      <td>128.800003</td>\n",
              "      <td>91722800</td>\n",
              "      <td>-0.139551</td>\n",
              "      <td>2.197206</td>\n",
              "    </tr>\n",
              "  </tbody>\n",
              "</table>\n",
              "<p>253 rows × 9 columns</p>\n",
              "</div>"
            ],
            "text/plain": [
              "           Date        Open        High  ...     Volume  Day_Perc_Change    HL_PCT\n",
              "0    2020-01-13   77.910004   79.267502  ...  121532000              NaN  1.883879\n",
              "1    2020-01-14   79.175003   79.392502  ...  161954400        -1.350328  1.741918\n",
              "2    2020-01-15   77.962502   78.875000  ...  121923600        -0.428552  1.927602\n",
              "3    2020-01-16   78.397499   78.925003  ...  108829200         1.252649  1.155054\n",
              "4    2020-01-17   79.067497   79.684998  ...  137816400         1.107099  1.183538\n",
              "..          ...         ...         ...  ...        ...              ...       ...\n",
              "248  2021-01-06  127.720001  131.050003  ...  155088000        -3.366153  3.688788\n",
              "249  2021-01-07  128.360001  131.630005  ...  109578200         3.412322  2.879624\n",
              "250  2021-01-08  132.429993  132.630005  ...  105158200         0.863126  1.817500\n",
              "251  2021-01-11  129.190002  130.169998  ...  100620900        -2.324882  1.294773\n",
              "252  2021-01-12  128.500000  129.690002  ...   91722800        -0.139551  2.197206\n",
              "\n",
              "[253 rows x 9 columns]"
            ]
          },
          "metadata": {
            "tags": []
          },
          "execution_count": 236
        }
      ]
    },
    {
      "cell_type": "code",
      "metadata": {
        "colab": {
          "base_uri": "https://localhost:8080/",
          "height": 383
        },
        "id": "KoYrZCBP1OA-",
        "outputId": "6bb4de31-22a3-4fc1-966c-8b3889149735"
      },
      "source": [
        "figure(num=None, figsize=(10, 5), dpi=80, facecolor='w', edgecolor='k')\r\n",
        "plt.plot(df['Close'],color='pink',linewidth=2, markersize=5)\r\n",
        "plt.ylabel('Close Price')\r\n",
        "plt.xlabel('Time frame')\r\n",
        "plt.title('Closing price over the entire time period')\r\n",
        "plt.show()"
      ],
      "execution_count": 237,
      "outputs": [
        {
          "output_type": "display_data",
          "data": {
            "image/png": "[encoded data removed]",
            "text/plain": [
              "<Figure size 800x400 with 1 Axes>"
            ]
          },
          "metadata": {
            "tags": []
          }
        }
      ]
    },
    {
      "cell_type": "code",
      "metadata": {
        "colab": {
          "base_uri": "https://localhost:8080/",
          "height": 305
        },
        "id": "dk1-H-JH0e3n",
        "outputId": "77436fca-ab82-4f06-f0c2-e7ccbb8c7eb1"
      },
      "source": [
        "#a stem plot of the daily change in of the stock price in percentage.\r\n",
        "\r\n",
        "figure(num=None, figsize=(10, 3))\r\n",
        "plt.stem(df['Day_Perc_Change'])\r\n",
        "plt.xticks(rotation=45)\r\n",
        "plt.xlabel('TIME PERIOD')\r\n",
        "plt.ylabel('DAY PERCENTAGE CHANGE')\r\n",
        "plt.title('DAILY CHANGE IN STOCK PRICE VS TIME PERIOD')\r\n",
        "plt.grid(True)"
      ],
      "execution_count": 238,
      "outputs": [
        {
          "output_type": "stream",
          "text": [
            "/usr/local/lib/python3.6/dist-packages/ipykernel_launcher.py:4: UserWarning: In Matplotlib 3.3 individual lines on a stem plot will be added as a LineCollection instead of individual lines. This significantly improves the performance of a stem plot. To remove this warning and switch to the new behaviour, set the \"use_line_collection\" keyword argument to True.\n",
            "  after removing the cwd from sys.path.\n"
          ],
          "name": "stderr"
        },
        {
          "output_type": "display_data",
          "data": {
            "image/png": "[encoded data removed]",
            "text/plain": [
              "<Figure size 720x216 with 1 Axes>"
            ]
          },
          "metadata": {
            "tags": [],
            "needs_background": "light"
          }
        }
      ]
    },
    {
      "cell_type": "code",
      "metadata": {
        "colab": {
          "base_uri": "https://localhost:8080/",
          "height": 295
        },
        "id": "MP3vwZXt1Frq",
        "outputId": "95115d88-90ae-44f7-c322-d1c9dfaefde2"
      },
      "source": [
        "plt.title('HISTOGRAM')\r\n",
        "plt.xlabel('DAILY PERCENTAGE CHANGE')\r\n",
        "plt.hist(df['Day_Perc_Change'],linewidth=1,facecolor='red')\r\n",
        "plt.grid(True)"
      ],
      "execution_count": 239,
      "outputs": [
        {
          "output_type": "display_data",
          "data": {
            "image/png": "[encoded data removed]",
            "text/plain": [
              "<Figure size 432x288 with 1 Axes>"
            ]
          },
          "metadata": {
            "tags": [],
            "needs_background": "light"
          }
        }
      ]
    },
    {
      "cell_type": "code",
      "metadata": {
        "colab": {
          "base_uri": "https://localhost:8080/",
          "height": 513
        },
        "id": "l3gyAkIjwQZ0",
        "outputId": "25792452-82c4-4d4c-a28e-7e03efaf2186"
      },
      "source": [
        "import math\r\n",
        "new=pd.DataFrame()\r\n",
        "new= df[['Adj Close','Day_Perc_Change','HL_PCT','Volume']]\r\n",
        "new.fillna(value=-99999, inplace=True)\r\n",
        "new"
      ],
      "execution_count": 240,
      "outputs": [
        {
          "output_type": "stream",
          "text": [
            "/usr/local/lib/python3.6/dist-packages/pandas/core/frame.py:4327: SettingWithCopyWarning: \n",
            "A value is trying to be set on a copy of a slice from a DataFrame\n",
            "\n",
            "See the caveats in the documentation: https://pandas.pydata.org/pandas-docs/stable/user_guide/indexing.html#returning-a-view-versus-a-copy\n",
            "  downcast=downcast,\n"
          ],
          "name": "stderr"
        },
        {
          "output_type": "execute_result",
          "data": {
            "text/html": [
              "<div>\n",
              "<style scoped>\n",
              "    .dataframe tbody tr th:only-of-type {\n",
              "        vertical-align: middle;\n",
              "    }\n",
              "\n",
              "    .dataframe tbody tr th {\n",
              "        vertical-align: top;\n",
              "    }\n",
              "\n",
              "    .dataframe thead th {\n",
              "        text-align: right;\n",
              "    }\n",
              "</style>\n",
              "<table border=\"1\" class=\"dataframe\">\n",
              "  <thead>\n",
              "    <tr style=\"text-align: right;\">\n",
              "      <th></th>\n",
              "      <th>Adj Close</th>\n",
              "      <th>Day_Perc_Change</th>\n",
              "      <th>HL_PCT</th>\n",
              "      <th>Volume</th>\n",
              "    </tr>\n",
              "  </thead>\n",
              "  <tbody>\n",
              "    <tr>\n",
              "      <th>0</th>\n",
              "      <td>78.561531</td>\n",
              "      <td>-99999.000000</td>\n",
              "      <td>1.883879</td>\n",
              "      <td>121532000</td>\n",
              "    </tr>\n",
              "    <tr>\n",
              "      <th>1</th>\n",
              "      <td>77.500702</td>\n",
              "      <td>-1.350328</td>\n",
              "      <td>1.741918</td>\n",
              "      <td>161954400</td>\n",
              "    </tr>\n",
              "    <tr>\n",
              "      <th>2</th>\n",
              "      <td>77.168564</td>\n",
              "      <td>-0.428552</td>\n",
              "      <td>1.927602</td>\n",
              "      <td>121923600</td>\n",
              "    </tr>\n",
              "    <tr>\n",
              "      <th>3</th>\n",
              "      <td>78.135223</td>\n",
              "      <td>1.252649</td>\n",
              "      <td>1.155054</td>\n",
              "      <td>108829200</td>\n",
              "    </tr>\n",
              "    <tr>\n",
              "      <th>4</th>\n",
              "      <td>79.000244</td>\n",
              "      <td>1.107099</td>\n",
              "      <td>1.183538</td>\n",
              "      <td>137816400</td>\n",
              "    </tr>\n",
              "    <tr>\n",
              "      <th>...</th>\n",
              "      <td>...</td>\n",
              "      <td>...</td>\n",
              "      <td>...</td>\n",
              "      <td>...</td>\n",
              "    </tr>\n",
              "    <tr>\n",
              "      <th>248</th>\n",
              "      <td>126.599998</td>\n",
              "      <td>-3.366153</td>\n",
              "      <td>3.688788</td>\n",
              "      <td>155088000</td>\n",
              "    </tr>\n",
              "    <tr>\n",
              "      <th>249</th>\n",
              "      <td>130.919998</td>\n",
              "      <td>3.412322</td>\n",
              "      <td>2.879624</td>\n",
              "      <td>109578200</td>\n",
              "    </tr>\n",
              "    <tr>\n",
              "      <th>250</th>\n",
              "      <td>132.050003</td>\n",
              "      <td>0.863126</td>\n",
              "      <td>1.817500</td>\n",
              "      <td>105158200</td>\n",
              "    </tr>\n",
              "    <tr>\n",
              "      <th>251</th>\n",
              "      <td>128.979996</td>\n",
              "      <td>-2.324882</td>\n",
              "      <td>1.294773</td>\n",
              "      <td>100620900</td>\n",
              "    </tr>\n",
              "    <tr>\n",
              "      <th>252</th>\n",
              "      <td>128.800003</td>\n",
              "      <td>-0.139551</td>\n",
              "      <td>2.197206</td>\n",
              "      <td>91722800</td>\n",
              "    </tr>\n",
              "  </tbody>\n",
              "</table>\n",
              "<p>253 rows × 4 columns</p>\n",
              "</div>"
            ],
            "text/plain": [
              "      Adj Close  Day_Perc_Change    HL_PCT     Volume\n",
              "0     78.561531    -99999.000000  1.883879  121532000\n",
              "1     77.500702        -1.350328  1.741918  161954400\n",
              "2     77.168564        -0.428552  1.927602  121923600\n",
              "3     78.135223         1.252649  1.155054  108829200\n",
              "4     79.000244         1.107099  1.183538  137816400\n",
              "..          ...              ...       ...        ...\n",
              "248  126.599998        -3.366153  3.688788  155088000\n",
              "249  130.919998         3.412322  2.879624  109578200\n",
              "250  132.050003         0.863126  1.817500  105158200\n",
              "251  128.979996        -2.324882  1.294773  100620900\n",
              "252  128.800003        -0.139551  2.197206   91722800\n",
              "\n",
              "[253 rows x 4 columns]"
            ]
          },
          "metadata": {
            "tags": []
          },
          "execution_count": 240
        }
      ]
    },
    {
      "cell_type": "code",
      "metadata": {
        "colab": {
          "base_uri": "https://localhost:8080/",
          "height": 616
        },
        "id": "6xmxhUKnwkYp",
        "outputId": "69501aea-feb4-4111-8bb9-59ae8d39531e"
      },
      "source": [
        "var1= int(math.ceil(0.01 * len(df)))\r\n",
        "new['label'] = df['Adj Close'].shift(var1)\r\n",
        "new.dropna(inplace=True)\r\n",
        "new"
      ],
      "execution_count": 241,
      "outputs": [
        {
          "output_type": "stream",
          "text": [
            "/usr/local/lib/python3.6/dist-packages/ipykernel_launcher.py:2: SettingWithCopyWarning: \n",
            "A value is trying to be set on a copy of a slice from a DataFrame.\n",
            "Try using .loc[row_indexer,col_indexer] = value instead\n",
            "\n",
            "See the caveats in the documentation: https://pandas.pydata.org/pandas-docs/stable/user_guide/indexing.html#returning-a-view-versus-a-copy\n",
            "  \n",
            "/usr/local/lib/python3.6/dist-packages/ipykernel_launcher.py:3: SettingWithCopyWarning: \n",
            "A value is trying to be set on a copy of a slice from a DataFrame\n",
            "\n",
            "See the caveats in the documentation: https://pandas.pydata.org/pandas-docs/stable/user_guide/indexing.html#returning-a-view-versus-a-copy\n",
            "  This is separate from the ipykernel package so we can avoid doing imports until\n"
          ],
          "name": "stderr"
        },
        {
          "output_type": "execute_result",
          "data": {
            "text/html": [
              "<div>\n",
              "<style scoped>\n",
              "    .dataframe tbody tr th:only-of-type {\n",
              "        vertical-align: middle;\n",
              "    }\n",
              "\n",
              "    .dataframe tbody tr th {\n",
              "        vertical-align: top;\n",
              "    }\n",
              "\n",
              "    .dataframe thead th {\n",
              "        text-align: right;\n",
              "    }\n",
              "</style>\n",
              "<table border=\"1\" class=\"dataframe\">\n",
              "  <thead>\n",
              "    <tr style=\"text-align: right;\">\n",
              "      <th></th>\n",
              "      <th>Adj Close</th>\n",
              "      <th>Day_Perc_Change</th>\n",
              "      <th>HL_PCT</th>\n",
              "      <th>Volume</th>\n",
              "      <th>label</th>\n",
              "    </tr>\n",
              "  </thead>\n",
              "  <tbody>\n",
              "    <tr>\n",
              "      <th>3</th>\n",
              "      <td>78.135223</td>\n",
              "      <td>1.252649</td>\n",
              "      <td>1.155054</td>\n",
              "      <td>108829200</td>\n",
              "      <td>78.561531</td>\n",
              "    </tr>\n",
              "    <tr>\n",
              "      <th>4</th>\n",
              "      <td>79.000244</td>\n",
              "      <td>1.107099</td>\n",
              "      <td>1.183538</td>\n",
              "      <td>137816400</td>\n",
              "      <td>77.500702</td>\n",
              "    </tr>\n",
              "    <tr>\n",
              "      <th>5</th>\n",
              "      <td>78.464882</td>\n",
              "      <td>-0.677691</td>\n",
              "      <td>0.962210</td>\n",
              "      <td>110843200</td>\n",
              "      <td>77.168564</td>\n",
              "    </tr>\n",
              "    <tr>\n",
              "      <th>6</th>\n",
              "      <td>78.744957</td>\n",
              "      <td>0.356952</td>\n",
              "      <td>0.850847</td>\n",
              "      <td>101832400</td>\n",
              "      <td>78.135223</td>\n",
              "    </tr>\n",
              "    <tr>\n",
              "      <th>7</th>\n",
              "      <td>79.124184</td>\n",
              "      <td>0.481586</td>\n",
              "      <td>1.235401</td>\n",
              "      <td>104472000</td>\n",
              "      <td>79.000244</td>\n",
              "    </tr>\n",
              "    <tr>\n",
              "      <th>...</th>\n",
              "      <td>...</td>\n",
              "      <td>...</td>\n",
              "      <td>...</td>\n",
              "      <td>...</td>\n",
              "      <td>...</td>\n",
              "    </tr>\n",
              "    <tr>\n",
              "      <th>248</th>\n",
              "      <td>126.599998</td>\n",
              "      <td>-3.366153</td>\n",
              "      <td>3.688788</td>\n",
              "      <td>155088000</td>\n",
              "      <td>132.690002</td>\n",
              "    </tr>\n",
              "    <tr>\n",
              "      <th>249</th>\n",
              "      <td>130.919998</td>\n",
              "      <td>3.412322</td>\n",
              "      <td>2.879624</td>\n",
              "      <td>109578200</td>\n",
              "      <td>129.410004</td>\n",
              "    </tr>\n",
              "    <tr>\n",
              "      <th>250</th>\n",
              "      <td>132.050003</td>\n",
              "      <td>0.863126</td>\n",
              "      <td>1.817500</td>\n",
              "      <td>105158200</td>\n",
              "      <td>131.009995</td>\n",
              "    </tr>\n",
              "    <tr>\n",
              "      <th>251</th>\n",
              "      <td>128.979996</td>\n",
              "      <td>-2.324882</td>\n",
              "      <td>1.294773</td>\n",
              "      <td>100620900</td>\n",
              "      <td>126.599998</td>\n",
              "    </tr>\n",
              "    <tr>\n",
              "      <th>252</th>\n",
              "      <td>128.800003</td>\n",
              "      <td>-0.139551</td>\n",
              "      <td>2.197206</td>\n",
              "      <td>91722800</td>\n",
              "      <td>130.919998</td>\n",
              "    </tr>\n",
              "  </tbody>\n",
              "</table>\n",
              "<p>250 rows × 5 columns</p>\n",
              "</div>"
            ],
            "text/plain": [
              "      Adj Close  Day_Perc_Change    HL_PCT     Volume       label\n",
              "3     78.135223         1.252649  1.155054  108829200   78.561531\n",
              "4     79.000244         1.107099  1.183538  137816400   77.500702\n",
              "5     78.464882        -0.677691  0.962210  110843200   77.168564\n",
              "6     78.744957         0.356952  0.850847  101832400   78.135223\n",
              "7     79.124184         0.481586  1.235401  104472000   79.000244\n",
              "..          ...              ...       ...        ...         ...\n",
              "248  126.599998        -3.366153  3.688788  155088000  132.690002\n",
              "249  130.919998         3.412322  2.879624  109578200  129.410004\n",
              "250  132.050003         0.863126  1.817500  105158200  131.009995\n",
              "251  128.979996        -2.324882  1.294773  100620900  126.599998\n",
              "252  128.800003        -0.139551  2.197206   91722800  130.919998\n",
              "\n",
              "[250 rows x 5 columns]"
            ]
          },
          "metadata": {
            "tags": []
          },
          "execution_count": 241
        }
      ]
    },
    {
      "cell_type": "markdown",
      "metadata": {
        "id": "Ds0O3H2w0LA7"
      },
      "source": [
        "USING LINEAR REGRESSION"
      ]
    },
    {
      "cell_type": "code",
      "metadata": {
        "id": "bXULrzsuwolI"
      },
      "source": [
        "#importing the needed libraries\r\n",
        "from sklearn.model_selection import train_test_split \r\n",
        "from sklearn.linear_model import LinearRegression\r\n",
        "from sklearn.metrics import mean_squared_error, r2_score\r\n",
        "from sklearn import preprocessing\r\n",
        "from sklearn.preprocessing import MinMaxScaler"
      ],
      "execution_count": 242,
      "outputs": []
    },
    {
      "cell_type": "code",
      "metadata": {
        "colab": {
          "base_uri": "https://localhost:8080/"
        },
        "id": "LvwJhBrXwyTt",
        "outputId": "92100c39-fd59-40be-afae-54d0b78e1a40"
      },
      "source": [
        "x = new[['Adj Close','Day_Perc_Change','HL_PCT','Volume']]\r\n",
        "x = preprocessing.scale(x)\r\n",
        "y = new['label']\r\n",
        "X_train, X_test, y_train, y_test = train_test_split(x, y, test_size=0.2, random_state=42)"
      ],
      "execution_count": 243,
      "outputs": [
        {
          "output_type": "stream",
          "text": [
            "/usr/local/lib/python3.6/dist-packages/sklearn/preprocessing/_data.py:173: UserWarning: Numerical issues were encountered when centering the data and might not be solved. Dataset may contain too large values. You may need to prescale your features.\n",
            "  warnings.warn(\"Numerical issues were encountered \"\n"
          ],
          "name": "stderr"
        }
      ]
    },
    {
      "cell_type": "code",
      "metadata": {
        "colab": {
          "base_uri": "https://localhost:8080/"
        },
        "id": "gESoau1vxAQe",
        "outputId": "0421215a-e4d1-4ffd-870f-3cf1febbb718"
      },
      "source": [
        "reg = LinearRegression()  \r\n",
        "reg.fit(X_train, y_train) #training the algorithm"
      ],
      "execution_count": 244,
      "outputs": [
        {
          "output_type": "execute_result",
          "data": {
            "text/plain": [
              "LinearRegression(copy_X=True, fit_intercept=True, n_jobs=None, normalize=False)"
            ]
          },
          "metadata": {
            "tags": []
          },
          "execution_count": 244
        }
      ]
    },
    {
      "cell_type": "code",
      "metadata": {
        "id": "JMArtk7JxUTq"
      },
      "source": [
        "y_pred = reg.predict(x)"
      ],
      "execution_count": 245,
      "outputs": []
    },
    {
      "cell_type": "code",
      "metadata": {
        "colab": {
          "base_uri": "https://localhost:8080/",
          "height": 366
        },
        "id": "Xi5wgAvTxJLC",
        "outputId": "a13bf9f8-d115-4ae9-cf19-d0faf1f54e6b"
      },
      "source": [
        "print(\"THE FIRST TEN PREDICTIONS ARE : \",end=\" \")\r\n",
        "df_1 = pd.DataFrame()\r\n",
        "df_1['ACTUAL'] = new['label']\r\n",
        "df_1['PREDICTED'] = y_pred\r\n",
        "df_1.head(10)"
      ],
      "execution_count": 246,
      "outputs": [
        {
          "output_type": "stream",
          "text": [
            "THE FIRST TEN PREDICTIONS ARE :  "
          ],
          "name": "stdout"
        },
        {
          "output_type": "execute_result",
          "data": {
            "text/html": [
              "<div>\n",
              "<style scoped>\n",
              "    .dataframe tbody tr th:only-of-type {\n",
              "        vertical-align: middle;\n",
              "    }\n",
              "\n",
              "    .dataframe tbody tr th {\n",
              "        vertical-align: top;\n",
              "    }\n",
              "\n",
              "    .dataframe thead th {\n",
              "        text-align: right;\n",
              "    }\n",
              "</style>\n",
              "<table border=\"1\" class=\"dataframe\">\n",
              "  <thead>\n",
              "    <tr style=\"text-align: right;\">\n",
              "      <th></th>\n",
              "      <th>ACTUAL</th>\n",
              "      <th>PREDICTED</th>\n",
              "    </tr>\n",
              "  </thead>\n",
              "  <tbody>\n",
              "    <tr>\n",
              "      <th>3</th>\n",
              "      <td>78.561531</td>\n",
              "      <td>75.656431</td>\n",
              "    </tr>\n",
              "    <tr>\n",
              "      <th>4</th>\n",
              "      <td>77.500702</td>\n",
              "      <td>76.072186</td>\n",
              "    </tr>\n",
              "    <tr>\n",
              "      <th>5</th>\n",
              "      <td>77.168564</td>\n",
              "      <td>76.989541</td>\n",
              "    </tr>\n",
              "    <tr>\n",
              "      <th>6</th>\n",
              "      <td>78.135223</td>\n",
              "      <td>76.591218</td>\n",
              "    </tr>\n",
              "    <tr>\n",
              "      <th>7</th>\n",
              "      <td>79.000244</td>\n",
              "      <td>77.346506</td>\n",
              "    </tr>\n",
              "    <tr>\n",
              "      <th>8</th>\n",
              "      <td>78.464882</td>\n",
              "      <td>77.630713</td>\n",
              "    </tr>\n",
              "    <tr>\n",
              "      <th>9</th>\n",
              "      <td>78.744957</td>\n",
              "      <td>77.393664</td>\n",
              "    </tr>\n",
              "    <tr>\n",
              "      <th>10</th>\n",
              "      <td>79.124184</td>\n",
              "      <td>75.232420</td>\n",
              "    </tr>\n",
              "    <tr>\n",
              "      <th>11</th>\n",
              "      <td>78.896149</td>\n",
              "      <td>76.341186</td>\n",
              "    </tr>\n",
              "    <tr>\n",
              "      <th>12</th>\n",
              "      <td>76.576187</td>\n",
              "      <td>79.039900</td>\n",
              "    </tr>\n",
              "  </tbody>\n",
              "</table>\n",
              "</div>"
            ],
            "text/plain": [
              "       ACTUAL  PREDICTED\n",
              "3   78.561531  75.656431\n",
              "4   77.500702  76.072186\n",
              "5   77.168564  76.989541\n",
              "6   78.135223  76.591218\n",
              "7   79.000244  77.346506\n",
              "8   78.464882  77.630713\n",
              "9   78.744957  77.393664\n",
              "10  79.124184  75.232420\n",
              "11  78.896149  76.341186\n",
              "12  76.576187  79.039900"
            ]
          },
          "metadata": {
            "tags": []
          },
          "execution_count": 246
        }
      ]
    },
    {
      "cell_type": "code",
      "metadata": {
        "colab": {
          "base_uri": "https://localhost:8080/",
          "height": 384
        },
        "id": "diyJKzuBxQH_",
        "outputId": "457761ae-131c-44c4-f0d2-eb254411aee8"
      },
      "source": [
        "import seaborn as sns\r\n",
        "ax1 = sns.distplot(y, hist=False, color=\"r\", label=\"Actual Value of Pred\")\r\n",
        "sns.distplot(y_pred, hist=False, color=\"b\", label=\"Fitted Values of Pred\" , ax=ax1)"
      ],
      "execution_count": 247,
      "outputs": [
        {
          "output_type": "stream",
          "text": [
            "/usr/local/lib/python3.6/dist-packages/seaborn/distributions.py:2557: FutureWarning: `distplot` is a deprecated function and will be removed in a future version. Please adapt your code to use either `displot` (a figure-level function with similar flexibility) or `kdeplot` (an axes-level function for kernel density plots).\n",
            "  warnings.warn(msg, FutureWarning)\n",
            "/usr/local/lib/python3.6/dist-packages/seaborn/distributions.py:2557: FutureWarning: `distplot` is a deprecated function and will be removed in a future version. Please adapt your code to use either `displot` (a figure-level function with similar flexibility) or `kdeplot` (an axes-level function for kernel density plots).\n",
            "  warnings.warn(msg, FutureWarning)\n"
          ],
          "name": "stderr"
        },
        {
          "output_type": "execute_result",
          "data": {
            "text/plain": [
              "<matplotlib.axes._subplots.AxesSubplot at 0x7f915b7ba6a0>"
            ]
          },
          "metadata": {
            "tags": []
          },
          "execution_count": 247
        },
        {
          "output_type": "display_data",
          "data": {
            "image/png": "[encoded data removed]",
            "text/plain": [
              "<Figure size 432x288 with 1 Axes>"
            ]
          },
          "metadata": {
            "tags": [],
            "needs_background": "light"
          }
        }
      ]
    },
    {
      "cell_type": "code",
      "metadata": {
        "colab": {
          "base_uri": "https://localhost:8080/"
        },
        "id": "GAUiedDNxqrN",
        "outputId": "15093e32-d1d6-473c-e471-9e5dbc4712a5"
      },
      "source": [
        "rmse = np.sqrt(mean_squared_error(y,y_pred))\r\n",
        "r2 = r2_score(y,y_pred)\r\n",
        "print(rmse)\r\n",
        "print(r2)"
      ],
      "execution_count": 248,
      "outputs": [
        {
          "output_type": "stream",
          "text": [
            "3.2258075336321643\n",
            "0.9788665096776098\n"
          ],
          "name": "stdout"
        }
      ]
    },
    {
      "cell_type": "markdown",
      "metadata": {
        "id": "5AlZ7Jo_0EKd"
      },
      "source": [
        "USING POLYNOMIAL REGRESSION"
      ]
    },
    {
      "cell_type": "code",
      "metadata": {
        "id": "SktBaLnCx0S7"
      },
      "source": [
        "from sklearn.preprocessing import PolynomialFeatures\r\n",
        "from sklearn.pipeline import make_pipeline"
      ],
      "execution_count": 249,
      "outputs": []
    },
    {
      "cell_type": "code",
      "metadata": {
        "id": "1vV8B-7A0B6E"
      },
      "source": [
        "model=make_pipeline(PolynomialFeatures(2),LinearRegression())\r\n",
        "model.fit(X_train, y_train)  \r\n",
        "predict=model.predict(x)"
      ],
      "execution_count": 250,
      "outputs": []
    },
    {
      "cell_type": "code",
      "metadata": {
        "colab": {
          "base_uri": "https://localhost:8080/",
          "height": 366
        },
        "id": "AzG8ZVjyyQRr",
        "outputId": "994b9348-98c4-41d1-a1b9-f8e8f21d5acf"
      },
      "source": [
        "print(\"THE FIRST TEN PREDICTIONS ARE : \",end=\" \")\r\n",
        "df_1 = pd.DataFrame()\r\n",
        "df_1['ACTUAL'] = y\r\n",
        "df_1['PREDICTED'] = predict\r\n",
        "df_1.head(10)"
      ],
      "execution_count": 251,
      "outputs": [
        {
          "output_type": "stream",
          "text": [
            "THE FIRST TEN PREDICTIONS ARE :  "
          ],
          "name": "stdout"
        },
        {
          "output_type": "execute_result",
          "data": {
            "text/html": [
              "<div>\n",
              "<style scoped>\n",
              "    .dataframe tbody tr th:only-of-type {\n",
              "        vertical-align: middle;\n",
              "    }\n",
              "\n",
              "    .dataframe tbody tr th {\n",
              "        vertical-align: top;\n",
              "    }\n",
              "\n",
              "    .dataframe thead th {\n",
              "        text-align: right;\n",
              "    }\n",
              "</style>\n",
              "<table border=\"1\" class=\"dataframe\">\n",
              "  <thead>\n",
              "    <tr style=\"text-align: right;\">\n",
              "      <th></th>\n",
              "      <th>ACTUAL</th>\n",
              "      <th>PREDICTED</th>\n",
              "    </tr>\n",
              "  </thead>\n",
              "  <tbody>\n",
              "    <tr>\n",
              "      <th>3</th>\n",
              "      <td>78.561531</td>\n",
              "      <td>76.645396</td>\n",
              "    </tr>\n",
              "    <tr>\n",
              "      <th>4</th>\n",
              "      <td>77.500702</td>\n",
              "      <td>77.492299</td>\n",
              "    </tr>\n",
              "    <tr>\n",
              "      <th>5</th>\n",
              "      <td>77.168564</td>\n",
              "      <td>78.270125</td>\n",
              "    </tr>\n",
              "    <tr>\n",
              "      <th>6</th>\n",
              "      <td>78.135223</td>\n",
              "      <td>77.780660</td>\n",
              "    </tr>\n",
              "    <tr>\n",
              "      <th>7</th>\n",
              "      <td>79.000244</td>\n",
              "      <td>78.121589</td>\n",
              "    </tr>\n",
              "    <tr>\n",
              "      <th>8</th>\n",
              "      <td>78.464882</td>\n",
              "      <td>78.574397</td>\n",
              "    </tr>\n",
              "    <tr>\n",
              "      <th>9</th>\n",
              "      <td>78.744957</td>\n",
              "      <td>78.394595</td>\n",
              "    </tr>\n",
              "    <tr>\n",
              "      <th>10</th>\n",
              "      <td>79.124184</td>\n",
              "      <td>76.271209</td>\n",
              "    </tr>\n",
              "    <tr>\n",
              "      <th>11</th>\n",
              "      <td>78.896149</td>\n",
              "      <td>77.338730</td>\n",
              "    </tr>\n",
              "    <tr>\n",
              "      <th>12</th>\n",
              "      <td>76.576187</td>\n",
              "      <td>79.811477</td>\n",
              "    </tr>\n",
              "  </tbody>\n",
              "</table>\n",
              "</div>"
            ],
            "text/plain": [
              "       ACTUAL  PREDICTED\n",
              "3   78.561531  76.645396\n",
              "4   77.500702  77.492299\n",
              "5   77.168564  78.270125\n",
              "6   78.135223  77.780660\n",
              "7   79.000244  78.121589\n",
              "8   78.464882  78.574397\n",
              "9   78.744957  78.394595\n",
              "10  79.124184  76.271209\n",
              "11  78.896149  77.338730\n",
              "12  76.576187  79.811477"
            ]
          },
          "metadata": {
            "tags": []
          },
          "execution_count": 251
        }
      ]
    },
    {
      "cell_type": "code",
      "metadata": {
        "colab": {
          "base_uri": "https://localhost:8080/",
          "height": 384
        },
        "id": "g6DqlIz9yXDT",
        "outputId": "0840c00f-abc7-4925-a29b-6930a614adff"
      },
      "source": [
        "import seaborn as sns\r\n",
        "ax1 = sns.distplot(y, hist=False, color=\"r\", label=\"Actual Value of Pred\")\r\n",
        "sns.distplot(predict, hist=False, color=\"b\", label=\"Fitted Values of Pred\" , ax=ax1)"
      ],
      "execution_count": 252,
      "outputs": [
        {
          "output_type": "stream",
          "text": [
            "/usr/local/lib/python3.6/dist-packages/seaborn/distributions.py:2557: FutureWarning: `distplot` is a deprecated function and will be removed in a future version. Please adapt your code to use either `displot` (a figure-level function with similar flexibility) or `kdeplot` (an axes-level function for kernel density plots).\n",
            "  warnings.warn(msg, FutureWarning)\n",
            "/usr/local/lib/python3.6/dist-packages/seaborn/distributions.py:2557: FutureWarning: `distplot` is a deprecated function and will be removed in a future version. Please adapt your code to use either `displot` (a figure-level function with similar flexibility) or `kdeplot` (an axes-level function for kernel density plots).\n",
            "  warnings.warn(msg, FutureWarning)\n"
          ],
          "name": "stderr"
        },
        {
          "output_type": "execute_result",
          "data": {
            "text/plain": [
              "<matplotlib.axes._subplots.AxesSubplot at 0x7f915b7a74a8>"
            ]
          },
          "metadata": {
            "tags": []
          },
          "execution_count": 252
        },
        {
          "output_type": "display_data",
          "data": {
            "image/png": "[encoded data removed]",
            "text/plain": [
              "<Figure size 432x288 with 1 Axes>"
            ]
          },
          "metadata": {
            "tags": [],
            "needs_background": "light"
          }
        }
      ]
    },
    {
      "cell_type": "code",
      "metadata": {
        "colab": {
          "base_uri": "https://localhost:8080/"
        },
        "id": "MVEYPiIJydCg",
        "outputId": "9eeaea86-e0be-4f31-e7fe-efcc57bc1aa7"
      },
      "source": [
        "rmse = np.sqrt(mean_squared_error(y,predict))\r\n",
        "r2 = r2_score(y,predict)\r\n",
        "print(rmse)\r\n",
        "print(r2)"
      ],
      "execution_count": 253,
      "outputs": [
        {
          "output_type": "stream",
          "text": [
            "3.0483632310686715\n",
            "0.9811275729721354\n"
          ],
          "name": "stdout"
        }
      ]
    }
  ]
}